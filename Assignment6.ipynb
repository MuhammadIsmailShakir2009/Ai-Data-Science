{
  "nbformat": 4,
  "nbformat_minor": 0,
  "metadata": {
    "colab": {
      "provenance": []
    },
    "kernelspec": {
      "name": "python3",
      "display_name": "Python 3"
    },
    "language_info": {
      "name": "python"
    }
  },
  "cells": [
    {
      "cell_type": "code",
      "source": [
        "import numpy as np\n",
        "%time\n",
        "\n",
        "# Part 1\n",
        "python_list = list(range(100000))\n",
        "numpy_array = np.array(python_list)\n",
        "start = time.time()\n",
        "[x * 5 for x in python_list]\n",
        "end = time.time()\n",
        "list_time = end - start\n",
        "start = time.time()\n",
        "numpy_array * 5\n",
        "end = time.time()\n",
        "numpy_time = end - start\n",
        "print(\"List time:\", list_time)\n",
        "print(\"NumPy time:\", numpy_time)"
      ],
      "metadata": {
        "colab": {
          "base_uri": "https://localhost:8080/"
        },
        "id": "Qm88F-6DwgRy",
        "outputId": "4a72b5b4-0818-44af-99ac-f748e11141ca"
      },
      "execution_count": 9,
      "outputs": [
        {
          "output_type": "stream",
          "name": "stdout",
          "text": [
            "CPU times: user 3 µs, sys: 0 ns, total: 3 µs\n",
            "Wall time: 5.01 µs\n",
            "List time: 0.008397579193115234\n",
            "NumPy time: 0.00046062469482421875\n"
          ]
        }
      ]
    },
    {
      "cell_type": "code",
      "execution_count": 10,
      "metadata": {
        "colab": {
          "base_uri": "https://localhost:8080/"
        },
        "id": "6HjlD-AjwPFJ",
        "outputId": "641f352a-9d03-4d53-ac10-ebff22545de0"
      },
      "outputs": [
        {
          "output_type": "stream",
          "name": "stdout",
          "text": [
            "CPU times: user 2 µs, sys: 0 ns, total: 2 µs\n",
            "Wall time: 5.01 µs\n",
            "1 (10,) 10 int64 8\n",
            "2 (3, 3) 9 int64 8\n",
            "[[0.32051364 0.76934693 0.65317875]\n",
            " [0.26922984 0.68129965 0.38805526]\n",
            " [0.2131438  0.31089837 0.83640259]] [[0 0 0]\n",
            " [0 0 0]\n",
            " [0 0 0]]\n"
          ]
        }
      ],
      "source": [
        " #Part2\n",
        " %time\n",
        "\n",
        "arr1 = np.arange(1, 11)\n",
        "arr2 = np.arange(1, 10).reshape(3, 3)\n",
        "print(arr1.ndim, arr1.shape, arr1.size, arr1.dtype, arr1.itemsize)\n",
        "print(arr2.ndim, arr2.shape, arr2.size, arr2.dtype, arr2.itemsize)\n",
        "float_arr = np.random.rand(3, 3)\n",
        "int_arr = float_arr.astype(int)\n",
        "print(float_arr, int_arr)"
      ]
    },
    {
      "cell_type": "code",
      "source": [
        "# Part 3\n",
        "%time\n",
        "zero_matrix = np.zeros((4, 4))\n",
        "one_matrix = np.ones((3, 2))\n",
        "identity_matrix = np.eye(5)\n",
        "const_array = np.full((3, 3), 7)\n",
        "rand_array = np.random.randint(10, 100, (3, 4))\n",
        "arange_arr = np.arange(5, 50, 5).reshape(3, 3)\n",
        "print(zero_matrix, one_matrix, identity_matrix, const_array, rand_array, arange_arr)"
      ],
      "metadata": {
        "colab": {
          "base_uri": "https://localhost:8080/"
        },
        "id": "nvnx1QAIw-u1",
        "outputId": "2ac30b13-8a32-47b4-e003-b117297d8e64"
      },
      "execution_count": 11,
      "outputs": [
        {
          "output_type": "stream",
          "name": "stdout",
          "text": [
            "CPU times: user 2 µs, sys: 0 ns, total: 2 µs\n",
            "Wall time: 4.77 µs\n",
            "[[0. 0. 0. 0.]\n",
            " [0. 0. 0. 0.]\n",
            " [0. 0. 0. 0.]\n",
            " [0. 0. 0. 0.]] [[1. 1.]\n",
            " [1. 1.]\n",
            " [1. 1.]] [[1. 0. 0. 0. 0.]\n",
            " [0. 1. 0. 0. 0.]\n",
            " [0. 0. 1. 0. 0.]\n",
            " [0. 0. 0. 1. 0.]\n",
            " [0. 0. 0. 0. 1.]] [[7 7 7]\n",
            " [7 7 7]\n",
            " [7 7 7]] [[13 24 89 82]\n",
            " [63 42 26 51]\n",
            " [96 91 31 12]] [[ 5 10 15]\n",
            " [20 25 30]\n",
            " [35 40 45]]\n"
          ]
        }
      ]
    },
    {
      "cell_type": "code",
      "source": [
        "# Part 4: Indexing and Slicing\n",
        "%time\n",
        "arr = np.array([[10, 20, 30, 40],\n",
        "                [50, 60, 70, 80],\n",
        "                [90, 100, 110, 120]])\n",
        "print(arr[1])\n",
        "print(arr[:2, 1:3])\n",
        "print(arr[:, 3])\n",
        "arr[1] = [1, 2, 3, 4]\n",
        "print(arr)"
      ],
      "metadata": {
        "colab": {
          "base_uri": "https://localhost:8080/"
        },
        "id": "RbM62N90w-bi",
        "outputId": "7bc84e36-6d21-4e08-e7f6-21d40b138991"
      },
      "execution_count": 12,
      "outputs": [
        {
          "output_type": "stream",
          "name": "stdout",
          "text": [
            "CPU times: user 4 µs, sys: 0 ns, total: 4 µs\n",
            "Wall time: 6.44 µs\n",
            "[50 60 70 80]\n",
            "[[20 30]\n",
            " [60 70]]\n",
            "[ 40  80 120]\n",
            "[[ 10  20  30  40]\n",
            " [  1   2   3   4]\n",
            " [ 90 100 110 120]]\n"
          ]
        }
      ]
    },
    {
      "cell_type": "code",
      "source": [
        "# Part 4: Vectorization\n",
        "%time\n",
        "A = np.random.randint(1, 100, 5)\n",
        "B = np.random.randint(1, 100, 5)\n",
        "print(A + B, A - B, A * B, A / B)\n",
        "C = np.array([1, 2, 3, 4, 5])\n",
        "print(np.sqrt(C), np.exp(C), np.sin(C))\n",
        "temperatures = np.array([20, 25, 30, 35, 40, 15, 10, 5, 0, -5])\n",
        "fahrenheit = (temperatures * 9/5) + 32\n",
        "print(fahrenheit)"
      ],
      "metadata": {
        "colab": {
          "base_uri": "https://localhost:8080/"
        },
        "id": "ALO1yAVOw-Hi",
        "outputId": "6d26bc54-2a61-4ddb-f413-7b0505b5498f"
      },
      "execution_count": 13,
      "outputs": [
        {
          "output_type": "stream",
          "name": "stdout",
          "text": [
            "CPU times: user 3 µs, sys: 0 ns, total: 3 µs\n",
            "Wall time: 5.01 µs\n",
            "[ 84  79  42  87 100] [  0  -9  40 -31 -16] [1764 1540   41 1652 2436] [ 1.          0.79545455 41.          0.47457627  0.72413793]\n",
            "[1.         1.41421356 1.73205081 2.         2.23606798] [  2.71828183   7.3890561   20.08553692  54.59815003 148.4131591 ] [ 0.84147098  0.90929743  0.14112001 -0.7568025  -0.95892427]\n",
            "[ 68.  77.  86.  95. 104.  59.  50.  41.  32.  23.]\n"
          ]
        }
      ]
    },
    {
      "cell_type": "code",
      "source": [
        "# Part 4: Broadcasting\n",
        "%time\n",
        "A = np.arange(1, 10).reshape(3, 3)\n",
        "print(A + 10)\n",
        "print(A + np.array([1, 2, 3]))\n",
        "print(A + np.array([[1], [2], [3]]))"
      ],
      "metadata": {
        "colab": {
          "base_uri": "https://localhost:8080/"
        },
        "id": "IJWbuyutxT12",
        "outputId": "17bd76e4-b32e-4462-ec2b-29e61e83905e"
      },
      "execution_count": 14,
      "outputs": [
        {
          "output_type": "stream",
          "name": "stdout",
          "text": [
            "CPU times: user 2 µs, sys: 0 ns, total: 2 µs\n",
            "Wall time: 4.29 µs\n",
            "[[11 12 13]\n",
            " [14 15 16]\n",
            " [17 18 19]]\n",
            "[[ 2  4  6]\n",
            " [ 5  7  9]\n",
            " [ 8 10 12]]\n",
            "[[ 2  3  4]\n",
            " [ 6  7  8]\n",
            " [10 11 12]]\n"
          ]
        }
      ]
    },
    {
      "cell_type": "code",
      "source": [
        "# Part 4: Reshape, Flatten, Ravel\n",
        "%time\n",
        "arr = np.arange(1, 13)\n",
        "reshaped1 = arr.reshape(3, 4)\n",
        "reshaped2 = arr.reshape(2, 6)\n",
        "flat = reshaped1.flatten()\n",
        "ravel_arr = reshaped1.ravel()\n",
        "flat[0] = 99\n",
        "ravel_arr[1] = 88\n",
        "print(reshaped1, reshaped2, flat, ravel_arr, reshaped1)\n",
        "arr2 = np.arange(1, 10).reshape(3, 3)\n",
        "flat2 = arr2.flatten()\n",
        "ravel2 = arr2.ravel()\n",
        "ravel2[0] = 77\n",
        "print(flat2, ravel2, arr2)\n"
      ],
      "metadata": {
        "colab": {
          "base_uri": "https://localhost:8080/"
        },
        "id": "z-EK2vdbxXqa",
        "outputId": "3fa9a514-1788-456e-ce55-e3b7b8e24d1a"
      },
      "execution_count": 15,
      "outputs": [
        {
          "output_type": "stream",
          "name": "stdout",
          "text": [
            "CPU times: user 2 µs, sys: 0 ns, total: 2 µs\n",
            "Wall time: 4.77 µs\n",
            "[[ 1 88  3  4]\n",
            " [ 5  6  7  8]\n",
            " [ 9 10 11 12]] [[ 1 88  3  4  5  6]\n",
            " [ 7  8  9 10 11 12]] [99  2  3  4  5  6  7  8  9 10 11 12] [ 1 88  3  4  5  6  7  8  9 10 11 12] [[ 1 88  3  4]\n",
            " [ 5  6  7  8]\n",
            " [ 9 10 11 12]]\n",
            "[1 2 3 4 5 6 7 8 9] [77  2  3  4  5  6  7  8  9] [[77  2  3]\n",
            " [ 4  5  6]\n",
            " [ 7  8  9]]\n"
          ]
        }
      ]
    }
  ]
}